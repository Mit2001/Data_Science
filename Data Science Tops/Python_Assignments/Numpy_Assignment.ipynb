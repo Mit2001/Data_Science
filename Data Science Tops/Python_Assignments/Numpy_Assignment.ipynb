{
 "cells": [
  {
   "cell_type": "markdown",
   "id": "20cafb05-adf8-425d-a6d9-4205da89026f",
   "metadata": {},
   "source": [
    "How To Create Empty And Full Numpy Array"
   ]
  },
  {
   "cell_type": "code",
   "execution_count": 5,
   "id": "209730c6-2ce0-4bce-97af-0f2fd1570917",
   "metadata": {},
   "outputs": [
    {
     "name": "stdout",
     "output_type": "stream",
     "text": [
      "[[6.23042070e-307 4.67296746e-307 1.69121096e-306]\n",
      " [1.78020169e-306 1.89146896e-307 7.56571288e-307]\n",
      " [3.11525958e-307 1.24610723e-306 0.00000000e+000]]\n"
     ]
    }
   ],
   "source": [
    "#empty array\n",
    "import numpy as np \n",
    "empty_array = np.empty((3,3))\n",
    "print(empty_array)"
   ]
  },
  {
   "cell_type": "code",
   "execution_count": 7,
   "id": "d68cad94-3889-479e-9b05-30d2d9bb4b6b",
   "metadata": {},
   "outputs": [
    {
     "name": "stdout",
     "output_type": "stream",
     "text": [
      "[[4 4 4]\n",
      " [4 4 4]\n",
      " [4 4 4]]\n"
     ]
    }
   ],
   "source": [
    "#full array \n",
    "full_array = np.full((3,3), 4)\n",
    "print(full_array)"
   ]
  },
  {
   "cell_type": "markdown",
   "id": "1d5c269f-35b0-4d51-855e-f9d601b40e2b",
   "metadata": {},
   "source": [
    "Create Numpy Array Filled With All Zeros"
   ]
  },
  {
   "cell_type": "code",
   "execution_count": 8,
   "id": "76ec218f-43aa-42be-ba1d-14d0fd007d7a",
   "metadata": {},
   "outputs": [
    {
     "name": "stdout",
     "output_type": "stream",
     "text": [
      "[[0 0 0]\n",
      " [0 0 0]\n",
      " [0 0 0]]\n"
     ]
    }
   ],
   "source": [
    "full_array = np.full((3,3), 0)\n",
    "print(full_array)"
   ]
  },
  {
   "cell_type": "markdown",
   "id": "c08eca19-0330-44aa-9ba9-1829ee0403a9",
   "metadata": {},
   "source": [
    "Create Numpy Array Filled With All Ones"
   ]
  },
  {
   "cell_type": "code",
   "execution_count": 9,
   "id": "e24e112e-d224-4573-936e-b2f45b697db1",
   "metadata": {},
   "outputs": [
    {
     "name": "stdout",
     "output_type": "stream",
     "text": [
      "[[1 1 1]\n",
      " [1 1 1]\n",
      " [1 1 1]]\n"
     ]
    }
   ],
   "source": [
    "full_array = np.full((3,3), 1)\n",
    "print(full_array)"
   ]
  },
  {
   "cell_type": "markdown",
   "id": "9b84e8d4-79a2-45ec-9496-823095a124d9",
   "metadata": {},
   "source": [
    "Check Whether Numpy Array Contain Specified Rows"
   ]
  },
  {
   "cell_type": "code",
   "execution_count": 11,
   "id": "776eec10-adc5-4af6-a190-714b655e7672",
   "metadata": {},
   "outputs": [
    {
     "name": "stdout",
     "output_type": "stream",
     "text": [
      "[[1 2 3]\n",
      " [4 5 6]]\n",
      "True\n"
     ]
    }
   ],
   "source": [
    "array = np.array([[1,2,3],[4,5,6]])\n",
    "print(array)\n",
    "x = np.all([1,2,3])\n",
    "print(x)"
   ]
  },
  {
   "cell_type": "markdown",
   "id": "85f88eaf-af78-4a91-a46a-ccbe4911a95c",
   "metadata": {},
   "source": [
    "How To Remove Row In Numpy Array That Contain Non Numeric Value"
   ]
  },
  {
   "cell_type": "code",
   "execution_count": 17,
   "id": "08bd90eb-411f-45b2-8e56-dedffd637021",
   "metadata": {},
   "outputs": [
    {
     "name": "stdout",
     "output_type": "stream",
     "text": [
      "[[ 1.  2.  3.]\n",
      " [ 4.  5.  6.]\n",
      " [ 7.  8. nan]]\n",
      "[1. 2. 3. 4. 5. 6. 7. 8.]\n"
     ]
    }
   ],
   "source": [
    "array = np.array([[1,2,3],[4,5,6],[7,8,np.nan]])\n",
    "print(array)\n",
    "result = array[~np.isnan(array)]\n",
    "print(result)"
   ]
  },
  {
   "cell_type": "markdown",
   "id": "9120373a-f75a-44ae-bd80-232da880c1b3",
   "metadata": {},
   "source": [
    "Remove Single Dimensional entries from shape of Array "
   ]
  },
  {
   "cell_type": "code",
   "execution_count": 18,
   "id": "4a56099a-5671-4f15-861c-fe3d2f6b783b",
   "metadata": {},
   "outputs": [
    {
     "name": "stdout",
     "output_type": "stream",
     "text": [
      "Original shape:  (3, 1, 4)\n",
      "New shape after squeezing:  (3, 4)\n"
     ]
    }
   ],
   "source": [
    "x = np.zeros((3, 1, 4))\n",
    "\n",
    "print(\"Original shape: \", x.shape)\n",
    "\n",
    "x_squeezed = np.squeeze(x)\n",
    "\n",
    "print(\"New shape after squeezing: \", x_squeezed.shape)"
   ]
  },
  {
   "cell_type": "code",
   "execution_count": 37,
   "id": "b0c36f4e-d3d9-4121-966c-beaf63052605",
   "metadata": {},
   "outputs": [
    {
     "name": "stdout",
     "output_type": "stream",
     "text": [
      "[[1 2 3]\n",
      " [5 6 7]]\n"
     ]
    }
   ],
   "source": [
    "#Method 2\n",
    "array = np.array([[1, 2,3], [3, 4,5], [5, 6,7]])\n",
    "\n",
    "x = np.delete(array, 1, axis=0)\n",
    "\n",
    "print(x) \n",
    "\n"
   ]
  },
  {
   "cell_type": "markdown",
   "id": "76b72bfc-da8e-452c-9bae-3187e95900fa",
   "metadata": {},
   "source": [
    "Find Number Of Occourence Of Sequence in Numpy Array"
   ]
  },
  {
   "cell_type": "code",
   "execution_count": 56,
   "id": "ede72cc9-3a95-45ff-ac5b-7a9c8e0c6eac",
   "metadata": {},
   "outputs": [
    {
     "name": "stdout",
     "output_type": "stream",
     "text": [
      "[[1 2 3]\n",
      " [4 5 6]]\n",
      "0\n"
     ]
    }
   ],
   "source": [
    "array = np.array([[1,2,3],[4,5,6]])\n",
    "print(array)\n",
    "output = repr(arr).count(\"3, 4\") \n",
    "  \n",
    "\n",
    "print(output) "
   ]
  },
  {
   "cell_type": "markdown",
   "id": "027198db-c830-4087-b46d-a11623841743",
   "metadata": {},
   "source": [
    "Find Most Frequent Value in Numpy Array "
   ]
  },
  {
   "cell_type": "code",
   "execution_count": 57,
   "id": "513789e7-3f57-479a-8244-deb65cc3ed4e",
   "metadata": {},
   "outputs": [
    {
     "name": "stdout",
     "output_type": "stream",
     "text": [
      "Original array:\n",
      "[1 2 3 4 5 1 2 1 1 1]\n",
      "Most frequent value in the above array:\n",
      "1\n"
     ]
    }
   ],
   "source": [
    "# create array \n",
    "x = np.array([1,2,3,4,5,1,2,1,1,1]) \n",
    "print(\"Original array:\") \n",
    "print(x) \n",
    "  \n",
    "print(\"Most frequent value in the above array:\") \n",
    "print(np.bincount(x).argmax())"
   ]
  },
  {
   "cell_type": "markdown",
   "id": "2789c7cd-88d5-4b28-aca4-d0c4a6b56591",
   "metadata": {},
   "source": [
    "Combing One And Two Dimensional Numpy Array"
   ]
  },
  {
   "cell_type": "code",
   "execution_count": 50,
   "id": "1c49daa6-45d9-43ee-bc64-5e6ad696c754",
   "metadata": {},
   "outputs": [
    {
     "name": "stdout",
     "output_type": "stream",
     "text": [
      "[1 2 3]\n",
      "----------\n",
      "[[1 2 3]\n",
      " [4 5 6]]\n",
      "Vstack\n",
      "[[1 2 3]\n",
      " [1 2 3]\n",
      " [4 5 6]]\n"
     ]
    }
   ],
   "source": [
    "a1 = np.array([1,2,3])\n",
    "print(a1)\n",
    "print('----------')\n",
    "a2 = np.array([[1,2,3],[4,5,6]])\n",
    "print(a2)\n",
    "print(\"Vstack\")\n",
    "a3 = np.vstack((a1,a2))\n",
    "print(a3)\n"
   ]
  },
  {
   "cell_type": "markdown",
   "id": "8819ebc7-62bc-4e40-aade-a149aa615bfd",
   "metadata": {},
   "source": [
    "How to build an array of all combination of two numpy array"
   ]
  },
  {
   "cell_type": "code",
   "execution_count": 51,
   "id": "f4af02c7-b2c4-4a85-bb1d-8d0e5715ea05",
   "metadata": {},
   "outputs": [
    {
     "name": "stdout",
     "output_type": "stream",
     "text": [
      "[1 2 3]\n",
      "----------\n",
      "[[1 2 3]\n",
      " [4 5 6]]\n",
      "Vstack\n",
      "[[1 2 3]\n",
      " [1 2 3]\n",
      " [4 5 6]]\n"
     ]
    }
   ],
   "source": [
    "a1 = np.array([1,2,3])\n",
    "print(a1)\n",
    "print('----------')\n",
    "a2 = np.array([[1,2,3],[4,5,6]])\n",
    "print(a2)\n",
    "print(\"Vstack\")\n",
    "a3 = np.vstack((a1,a2))\n",
    "print(a3)"
   ]
  },
  {
   "cell_type": "code",
   "execution_count": 53,
   "id": "ff8ce9d3-4ff1-4f5d-91e9-e3bf19e9b162",
   "metadata": {},
   "outputs": [
    {
     "data": {
      "text/plain": [
       "array([[ 1,  2,  3,  7,  8,  9],\n",
       "       [ 4,  5,  6, 10, 11, 12]])"
      ]
     },
     "execution_count": 53,
     "metadata": {},
     "output_type": "execute_result"
    }
   ],
   "source": [
    "arr1 = np.array([[1,2,3],[4,5,6]])\n",
    "arr3 = np.array([[7,8,9],[10,11,12]])\n",
    "arr4 = np.hstack((arr1,arr3))\n",
    "arr4"
   ]
  }
 ],
 "metadata": {
  "kernelspec": {
   "display_name": "Python 3 (ipykernel)",
   "language": "python",
   "name": "python3"
  },
  "language_info": {
   "codemirror_mode": {
    "name": "ipython",
    "version": 3
   },
   "file_extension": ".py",
   "mimetype": "text/x-python",
   "name": "python",
   "nbconvert_exporter": "python",
   "pygments_lexer": "ipython3",
   "version": "3.11.7"
  }
 },
 "nbformat": 4,
 "nbformat_minor": 5
}
