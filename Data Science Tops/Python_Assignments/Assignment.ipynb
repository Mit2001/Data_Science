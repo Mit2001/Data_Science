{
 "cells": [
  {
   "cell_type": "markdown",
   "id": "107b9421-3958-4d78-939a-ea24f245efc0",
   "metadata": {},
   "source": [
    "Write a python program to sum of the first n positive integers"
   ]
  },
  {
   "cell_type": "code",
   "execution_count": 13,
   "id": "57b4922e-fd34-4989-b5de-5499e5edcaec",
   "metadata": {},
   "outputs": [
    {
     "name": "stdin",
     "output_type": "stream",
     "text": [
      "Enter n number 3\n"
     ]
    },
    {
     "name": "stdout",
     "output_type": "stream",
     "text": [
      "The sum of 3 is  6.0\n"
     ]
    }
   ],
   "source": [
    "n = int(input(\"Enter n number\"))\n",
    "sum = 0\n",
    "sum = n *(n+1)/2\n",
    "print(\"The sum of\",n ,\"is \",sum)"
   ]
  },
  {
   "cell_type": "markdown",
   "id": "81f335fa-5da9-42e7-8f51-ba177e66b5b5",
   "metadata": {},
   "source": [
    "Write a Python program to count occurrences of a substring in a string.\r"
   ]
  },
  {
   "cell_type": "code",
   "execution_count": 2,
   "id": "e73fcf54-7b0e-4aa4-afda-b5f2e2baa9a4",
   "metadata": {},
   "outputs": [
    {
     "name": "stdout",
     "output_type": "stream",
     "text": [
      "1\n"
     ]
    }
   ],
   "source": [
    "s = \"Hi my name is MIt\"\n",
    "print(s.count(\"name\"))"
   ]
  },
  {
   "cell_type": "markdown",
   "id": "f259268a-357b-457c-9f6d-5d3dd42c9f2d",
   "metadata": {},
   "source": [
    "Write a Python program to count the occurrences of each word in a given sentence"
   ]
  },
  {
   "cell_type": "code",
   "execution_count": 22,
   "id": "09b44c11-5837-45c3-add1-c0e81be64aff",
   "metadata": {},
   "outputs": [
    {
     "name": "stdin",
     "output_type": "stream",
     "text": [
      "Enter the sentence Hi My Name is Mit\n"
     ]
    },
    {
     "name": "stdout",
     "output_type": "stream",
     "text": [
      "Hi My Name is Mit\n",
      "['Hi', 'My', 'Name', 'is', 'Mit']\n",
      "{'Hi': 1, 'My': 1, 'Name': 1, 'is': 1, 'Mit': 1}\n"
     ]
    }
   ],
   "source": [
    "a = str(input(\"Enter the sentence\"))\n",
    "print(a)\n",
    "count = {}\n",
    "words = a.split()\n",
    "print(words)\n",
    "for word in words:\n",
    "    word.lower()\n",
    "    if word in count:\n",
    "        count[word] += 1\n",
    "    else: \n",
    "        count[word] = 1\n",
    "\n",
    "print(count)\n",
    "   "
   ]
  },
  {
   "cell_type": "markdown",
   "id": "0c0f81d9-b2e2-43bf-be2e-59282ff32010",
   "metadata": {},
   "source": [
    "Write a Python program to get a single string from two given strings, separated by a space and swap the first\n",
    "two characters of each string. "
   ]
  },
  {
   "cell_type": "code",
   "execution_count": 17,
   "id": "a9ef6521-8003-41f7-8f8b-0b4fd858214b",
   "metadata": {},
   "outputs": [
    {
     "name": "stdout",
     "output_type": "stream",
     "text": [
      "eHllo , oWrld\n"
     ]
    }
   ],
   "source": [
    "string1 = 'Hello'\n",
    "string2 = 'World'\n",
    "new_str1 = string1[1]+string1[0]+string1[2:]\n",
    "new_str2 = string2[1]+string2[0]+string2[2:]\n",
    "new_str = new_str1 + ' , ' + new_str2\n",
    "print(new_str)\n",
    "# single_str = str1 + str2\n",
    "# print(single_str)"
   ]
  },
  {
   "cell_type": "markdown",
   "id": "b9504f7a-f3b4-4918-9086-ee6ef7f14e7c",
   "metadata": {},
   "source": [
    "Write a Python program to add 'ing' at the end of a given string (length should be at least 3).\r\n",
    "If the given string already ends with 'ing' then add 'ly' instead If the string length of the given\r\n",
    "string is less than 3, leave it unchanged "
   ]
  },
  {
   "cell_type": "code",
   "execution_count": 21,
   "id": "4f6c4b03-b941-4e6f-91a4-4ab38cf9a238",
   "metadata": {},
   "outputs": [
    {
     "name": "stdout",
     "output_type": "stream",
     "text": [
      "eatly\n",
      "eatingly\n",
      "hi\n"
     ]
    }
   ],
   "source": [
    "def add_suffix(word):\n",
    "    if len(word) < 3:\n",
    "        return word\n",
    "    elif word[-3:]:\n",
    "        return word + 'ly'\n",
    "    else:\n",
    "        return word + 'ing'\n",
    "\n",
    "print(add_suffix('eat'))\n",
    "print(add_suffix('eating'))\n",
    "print(add_suffix('hi'))"
   ]
  },
  {
   "cell_type": "markdown",
   "id": "7c426fda-16aa-4bc0-8a66-5322752b31f4",
   "metadata": {},
   "source": [
    "Write a Python program to find the first appearance of the substring 'not' and 'poor' from a given string, if\r\n",
    "'not' follows the 'poor', replace the whole 'not'...'poor' substring with 'good'.\r\n",
    "Return the resulting string\r"
   ]
  },
  {
   "cell_type": "code",
   "execution_count": 25,
   "id": "d3312179-d5d3-4e0b-b8a7-a4603710989d",
   "metadata": {},
   "outputs": [
    {
     "name": "stdout",
     "output_type": "stream",
     "text": [
      "The adani is good\n"
     ]
    }
   ],
   "source": [
    "def replace_not_and_poor(input_string):\n",
    "    not_string = input_string.find('not')\n",
    "    poor_string = input_string.find('poor')\n",
    "    if not_string != -1 and poor_string != -1 and not_string < poor_string:\n",
    "        return input_string[:not_string] + 'good' +input_string[poor_string + 4:]\n",
    "       \n",
    "    else:\n",
    "        return input_string\n",
    "\n",
    "input_string = \"The adani is not that poor\"\n",
    "result_string = replace_not_and_poor(input_string)\n",
    "print(result_string)"
   ]
  },
  {
   "cell_type": "markdown",
   "id": "7b9d2313-6161-4290-a66d-fdf5ae8f0333",
   "metadata": {},
   "source": [
    "Program to find Greatest Common Divisor of two numbers.\r\n",
    "For example, the GCD of 20 and 28 is 4 and GCD of 98 and 56 is 14.\r"
   ]
  },
  {
   "cell_type": "code",
   "execution_count": 1,
   "id": "1a10693a-b01a-40fb-aab7-32daccd9a97d",
   "metadata": {},
   "outputs": [
    {
     "name": "stdout",
     "output_type": "stream",
     "text": [
      "4\n",
      "14\n"
     ]
    }
   ],
   "source": [
    "def gcd(a,b):\n",
    "    while b:\n",
    "        a ,b= b , a%b\n",
    "    return a\n",
    "num1 = 20\n",
    "num2 = 28\n",
    "result= gcd(num1, num2)\n",
    "print(result)\n",
    "\n",
    "num3 = 98\n",
    "num4 = 56\n",
    "result_2= gcd(num3, num4)\n",
    "print(result_2)"
   ]
  },
  {
   "cell_type": "markdown",
   "id": "6ba3fe73-6699-419c-8861-1d2e229b0038",
   "metadata": {},
   "source": [
    "Write a Python program to check whether a list contains a sublist.\n",
    "\n"
   ]
  },
  {
   "cell_type": "code",
   "execution_count": 3,
   "id": "178251b5-4856-4c46-947c-4ce9962a95a5",
   "metadata": {},
   "outputs": [
    {
     "name": "stdout",
     "output_type": "stream",
     "text": [
      "Sublist found in the main list.\n"
     ]
    }
   ],
   "source": [
    "main_list = [1, 2, 3, 4, 5, 6, 7]\n",
    "sublist = [3, 4, 5]\n",
    "\n",
    "if any(main_list[i:i + len(sublist)] == sublist for i in range(len(main_list) - len(sublist) + 1)):\n",
    "    print(\"Sublist found in the main list.\")\n",
    "else:\n",
    "    print(\"Sublist not found in the main list.\")"
   ]
  },
  {
   "cell_type": "markdown",
   "id": "60006c3a-76b3-4942-8f51-eb174cb819b4",
   "metadata": {},
   "source": [
    "Write a Python program to find the second smallest number in a list. "
   ]
  },
  {
   "cell_type": "code",
   "execution_count": 4,
   "id": "c46b260d-6459-40c6-8a3b-b2758ef0aaa2",
   "metadata": {},
   "outputs": [
    {
     "name": "stdout",
     "output_type": "stream",
     "text": [
      "The second smallest number in the list is: 2\n"
     ]
    }
   ],
   "source": [
    "numbers = [5, 3, 4, 1, 2]\n",
    "\n",
    "if len(numbers) < 2:\n",
    "    print(\"The list must contain at least two numbers.\")\n",
    "else:\n",
    "    numbers.sort()\n",
    "    second_smallest = numbers[1]\n",
    "    print(\"The second smallest number in the list is:\", second_smallest)"
   ]
  },
  {
   "cell_type": "markdown",
   "id": "08264404-d92c-4f7f-a750-58fd9531f0c6",
   "metadata": {},
   "source": [
    "Write a Python program to get unique values from a list."
   ]
  },
  {
   "cell_type": "code",
   "execution_count": 5,
   "id": "585fce3d-3295-4b42-b1b0-c460669b1b46",
   "metadata": {},
   "outputs": [
    {
     "name": "stdout",
     "output_type": "stream",
     "text": [
      "Original List: [1, 2, 2, 3, 4, 4, 5, 6, 6]\n",
      "Unique Values: [1, 2, 3, 4, 5, 6]\n"
     ]
    }
   ],
   "source": [
    "my_list = [1, 2, 2, 3, 4, 4, 5, 6, 6]\n",
    "\n",
    "unique_values = list(set(my_list))\n",
    "\n",
    "print(\"Original List:\", my_list)\n",
    "print(\"Unique Values:\", unique_values)"
   ]
  },
  {
   "cell_type": "markdown",
   "id": "ad1b69cb-5a50-4e65-8a25-0db0eafa736d",
   "metadata": {},
   "source": [
    "Write a Python program to unzip a list of tuples into individual lists."
   ]
  },
  {
   "cell_type": "code",
   "execution_count": 6,
   "id": "0e868e60-5a43-43d0-8a25-f10cacf020c0",
   "metadata": {},
   "outputs": [
    {
     "name": "stdout",
     "output_type": "stream",
     "text": [
      "Numbers: [1, 2, 3, 4]\n",
      "Letters: ['a', 'b', 'c', 'd']\n"
     ]
    }
   ],
   "source": [
    "my_tuples = [(1, 'a'), (2, 'b'), (3, 'c'), (4, 'd')]\n",
    "\n",
    "# Unzip the list of tuples\n",
    "numbers, letters = zip(*my_tuples)\n",
    "\n",
    "print(\"Numbers:\", list(numbers))\n",
    "print(\"Letters:\", list(letters))"
   ]
  },
  {
   "cell_type": "markdown",
   "id": "549df745-f7ae-49e9-b3e1-553d4d965275",
   "metadata": {},
   "source": [
    "Write a Python program to convert a list of tuples into a dictionary"
   ]
  },
  {
   "cell_type": "code",
   "execution_count": 8,
   "id": "2b7770e7-30c2-4a09-b05d-b97096d5940c",
   "metadata": {},
   "outputs": [
    {
     "name": "stdout",
     "output_type": "stream",
     "text": [
      "Dictionary: {1: 'a', 2: 'b', 3: 'c', 4: 'd'}\n"
     ]
    }
   ],
   "source": [
    "my_tuples = [(1, 'a'), (2, 'b'), (3, 'c'), (4, 'd')]\n",
    "\n",
    "my_dict = dict(my_tuples)\n",
    "\n",
    "print(\"Dictionary:\", my_dict)"
   ]
  },
  {
   "cell_type": "markdown",
   "id": "559a263e-008f-4076-b7e1-a411eff0aadf",
   "metadata": {},
   "source": [
    "Write a Python program to sort a dictionary (ascending /descending) by value."
   ]
  },
  {
   "cell_type": "code",
   "execution_count": 19,
   "id": "2b3ac658-0eeb-49d6-baef-b1459b6b49e6",
   "metadata": {},
   "outputs": [
    {
     "name": "stdout",
     "output_type": "stream",
     "text": [
      "Sorted dictionary in ascending order:\n",
      "{'a': 1, 'b': 3, 'd': 4, 'c': 5}\n",
      "Sorted dictionary in descending order:\n",
      "{'c': 5, 'd': 4, 'b': 3, 'a': 1}\n"
     ]
    }
   ],
   "source": [
    "my_dict = {'b':3, 'a':1,'c': 5, 'd' :4}\n",
    "def sort_by_value(dict_item):\n",
    "    return dict_item[1]\n",
    "\n",
    "sorted_dict_ascending = dict(sorted(my_dict.items(), key=sort_by_value))\n",
    "sorted_dict_descending = dict(sorted(my_dict.items(), key=sort_by_value, reverse=True))\n",
    "print(\"Sorted dictionary in ascending order:\")\n",
    "print(sorted_dict_ascending)\n",
    "\n",
    "print(\"Sorted dictionary in descending order:\")\n",
    "print(sorted_dict_descending)"
   ]
  },
  {
   "cell_type": "markdown",
   "id": "2c811979-8080-4bab-93fd-91ae441929e0",
   "metadata": {},
   "source": [
    "Write a Python program to find the highest 3 values in a dictionary"
   ]
  },
  {
   "cell_type": "code",
   "execution_count": 5,
   "id": "f5729f61-6584-489c-9ac3-e355b0b5960d",
   "metadata": {},
   "outputs": [
    {
     "name": "stdout",
     "output_type": "stream",
     "text": [
      "[30, 25, 20, 15, 10, 5]\n",
      "Top 3 Values: [30, 25, 20]\n"
     ]
    }
   ],
   "source": [
    "my_dict = {'a': 10, 'b': 5, 'c': 20, 'd': 15, 'e': 25, 'f': 30}\n",
    "\n",
    "sorted_values = sorted(my_dict.values(), reverse=True)\n",
    "print (sorted_values)\n",
    "\n",
    "top_3_values = sorted_values[:3]\n",
    "\n",
    "print(\"Top 3 Values:\", top_3_values)"
   ]
  },
  {
   "cell_type": "markdown",
   "id": "b964cff9-682c-4118-a61d-04a5ee76b8be",
   "metadata": {},
   "source": [
    "Given a number n, write a python program to make and print the list of Fibonacci series up to n.\r\n",
    "Input : n=7\r\n",
    "Hint : first 7 numbers in the series\r\n",
    "Expected output :\r\n",
    "First few Fibonacci numbers are 0, 1, 1, 2, 3, 5, 8, 13\r"
   ]
  },
  {
   "cell_type": "code",
   "execution_count": 1,
   "id": "16a0c804-b45f-4559-880a-c69e2c6ebd8e",
   "metadata": {},
   "outputs": [
    {
     "name": "stdout",
     "output_type": "stream",
     "text": [
      "[0, 1]\n"
     ]
    },
    {
     "name": "stdin",
     "output_type": "stream",
     "text": [
      "Enter the number of series :   5\n"
     ]
    },
    {
     "name": "stdout",
     "output_type": "stream",
     "text": [
      "[0, 1, 1, 2, 3, 5]\n"
     ]
    }
   ],
   "source": [
    "# Fib = 0,1,1,2,3,5,8,13,21\n",
    "\n",
    "Num1 = 0\n",
    "Num2 =1\n",
    "Fib = []\n",
    "Fib.append(Num1)\n",
    "Fib.append(Num2)\n",
    "\n",
    "\n",
    "print(Fib)\n",
    "N = int(input(\"Enter the number of series :  \"))\n",
    "\n",
    "for number in range(2,N+1):\n",
    "    Add_num = Fib[number-1]+ Fib[number-2]\n",
    "    Fib.append(Add_num)\n",
    "    \n",
    "print(Fib)"
   ]
  },
  {
   "cell_type": "markdown",
   "id": "8cea3c06-be2a-4535-bd72-44f73570ba65",
   "metadata": {},
   "source": [
    "Counting the frequencies in a list using a dictionary in Python.\n",
    "Input : [1, 1, 1, 5, 5, 3, 1, 3, 3, 1,4, 4, 4, 2, 2, 2, 2]\n",
    "Expected output : 1 : 5 , 2 : 4 , 3 : 3 , 4 : 3 , 5 : 2"
   ]
  },
  {
   "cell_type": "code",
   "execution_count": 2,
   "id": "30c326fc-9e4a-43b0-98a0-df045723069a",
   "metadata": {},
   "outputs": [
    {
     "name": "stdout",
     "output_type": "stream",
     "text": [
      "1 : 5 , 5 : 2 , 3 : 3 , 4 : 3 , 2 : 4 , "
     ]
    }
   ],
   "source": [
    "\n",
    "input_list = [1, 1, 1, 5, 5, 3, 1, 3, 3, 1, 4, 4, 4, 2, 2, 2, 2]\n",
    "\n",
    "\n",
    "frequency_dict = {}\n",
    "\n",
    "for number in input_list:\n",
    "    if number in frequency_dict:\n",
    "        frequency_dict[number] += 1\n",
    "    else:\n",
    "        frequency_dict[number] = 1\n",
    "\n",
    "for key, value in frequency_dict.items():\n",
    "    print(f\"{key} : {value}\", end=\" , \")"
   ]
  },
  {
   "cell_type": "markdown",
   "id": "ce6b2d5b-e0cd-40d9-8b30-2d692e2aa50c",
   "metadata": {},
   "source": [
    "Python Program to Find Factorial of Number Using Recursion"
   ]
  },
  {
   "cell_type": "code",
   "execution_count": 3,
   "id": "e9dfbc5e-cf0e-4594-bc4a-5dfa78e9a794",
   "metadata": {},
   "outputs": [
    {
     "name": "stdout",
     "output_type": "stream",
     "text": [
      "Factorial of 5 is 120\n"
     ]
    }
   ],
   "source": [
    "def factorial(n):\n",
    "    if n == 0:\n",
    "        return 1\n",
    "    else:\n",
    "        return n * factorial(n-1)\n",
    "\n",
    "num = 5\n",
    "print(\"Factorial of\", num, \"is\", factorial(num))"
   ]
  },
  {
   "cell_type": "markdown",
   "id": "732168a5-3730-4933-ade2-7dde1fc0414a",
   "metadata": {},
   "source": [
    "Write a Python function that takes a list and returns a new list with unique elements of the first list"
   ]
  },
  {
   "cell_type": "code",
   "execution_count": 5,
   "id": "44f8b16e-def3-4d41-ad0e-ca7c6023e9e2",
   "metadata": {},
   "outputs": [
    {
     "name": "stdout",
     "output_type": "stream",
     "text": [
      "[1, 2, 3, 4, 5, 6, 7, 8, 9]\n"
     ]
    }
   ],
   "source": [
    "def unique_list(lst):\n",
    "    return list(set(lst))\n",
    "\n",
    "# Example usage\n",
    "numbers = [1, 2, 3, 4, 4, 5, 6, 6, 7, 8, 8, 9]\n",
    "unique_numbers = unique_list(numbers)\n",
    "print(unique_numbers)  "
   ]
  },
  {
   "cell_type": "markdown",
   "id": "df86fca1-b933-49f2-bc4e-3a195a5925d6",
   "metadata": {},
   "source": [
    "Write a python program using function to find the sum of odd series and even series\n",
    "Odd series: 12/ 1! + 32/ 3! + 52/ 5!+……n\n",
    "Even series: 22/ 2! + 42/ 4! + 62/ 6!+……n\n"
   ]
  },
  {
   "cell_type": "markdown",
   "id": "988305b3-29cf-40db-9510-7c64c161f7af",
   "metadata": {},
   "source": [
    "doubts"
   ]
  },
  {
   "cell_type": "code",
   "execution_count": null,
   "id": "3a777051-a1a6-4c49-8b74-798ef2116185",
   "metadata": {},
   "outputs": [],
   "source": [
    "# oops,filter map reduce lambda file handling "
   ]
  }
 ],
 "metadata": {
  "kernelspec": {
   "display_name": "Python 3 (ipykernel)",
   "language": "python",
   "name": "python3"
  },
  "language_info": {
   "codemirror_mode": {
    "name": "ipython",
    "version": 3
   },
   "file_extension": ".py",
   "mimetype": "text/x-python",
   "name": "python",
   "nbconvert_exporter": "python",
   "pygments_lexer": "ipython3",
   "version": "3.11.7"
  }
 },
 "nbformat": 4,
 "nbformat_minor": 5
}
